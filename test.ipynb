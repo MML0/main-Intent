{
 "cells": [
  {
   "cell_type": "code",
   "execution_count": 2,
   "metadata": {},
   "outputs": [
    {
     "name": "stdout",
     "output_type": "stream",
     "text": [
      "مشکل تغییر آوای انتظار\n",
      "Index(['a', 'b', 'c', 'd', 'e', 'f', 'g', 'h', 'i', 'j', 'k'], dtype='object')\n",
      "31\n"
     ]
    },
    {
     "data": {
      "text/plain": [
       "'سلام علیکم حاج خانوم خوبی من ببخشید مزاحمتون میشم. یه آوایی فعال کردم ولی نمیدونم که چیکار کنم که این نباشه یکی دیگه بجاش باشه هر کاری میکنم نمیشه'"
      ]
     },
     "execution_count": 2,
     "metadata": {},
     "output_type": "execute_result"
    }
   ],
   "source": [
    "import pandas as pd\n",
    "xl = pd.ExcelFile(\"train.xlsx\")\n",
    "xl.sheet_names\n",
    "\n",
    "df = xl.parse(0)\n",
    "print(df.columns[2])\n",
    "\n",
    "df = xl.parse(1)\n",
    "print(df.columns)\n",
    "\n",
    "\n",
    "print(len(df.a.dropna()))\n",
    "df.c[0]"
   ]
  },
  {
   "cell_type": "code",
   "execution_count": 3,
   "metadata": {},
   "outputs": [
    {
     "name": "stdout",
     "output_type": "stream",
     "text": [
      "40460\n",
      "7978\n",
      "1457\n"
     ]
    }
   ],
   "source": [
    "\n",
    "alltext = ''\n",
    "for i in df.columns:\n",
    "    #print(len(df[i].dropna()))\n",
    "    for j in df[i].dropna():\n",
    "        alltext += j+' '\n",
    "\n",
    "print(len(alltext))\n",
    "print(len(alltext.split()))\n",
    "print(len(set(alltext.split())))\n",
    "\n",
    "\n",
    "alltext = alltext.replace(\"\\u200c\",'').replace(\"؟\",' ? ').replace(\".\",' ').replace(\"،\",' ')\n",
    "\n",
    "rem = '0123456789abcdefghijklmnopqrstuvwxyzABCDEFGHIJKLMNOPQRSTUVWXYZ!\"#$%&\\'()*+,-./:;<=>?@[\\\\]^_`{|}~ \\t\\n\\r\\x0b\\x0c'\n",
    "for i in rem:\n",
    "    alltext = alltext.replace(i,' ')\n"
   ]
  },
  {
   "cell_type": "code",
   "execution_count": 92,
   "metadata": {},
   "outputs": [
    {
     "name": "stdout",
     "output_type": "stream",
     "text": [
      "40738\n",
      "8004\n",
      "1332\n"
     ]
    }
   ],
   "source": [
    "print(len(alltext))\n",
    "print(len(alltext.split()))\n",
    "print(len(set(alltext.split())))\n",
    "\n",
    "#print(set(alltext.split()))\n",
    "train_text = alltext.replace('  ',' ')"
   ]
  },
  {
   "cell_type": "code",
   "execution_count": 5,
   "metadata": {},
   "outputs": [
    {
     "data": {
      "text/html": [
       "<div>\n",
       "<style scoped>\n",
       "    .dataframe tbody tr th:only-of-type {\n",
       "        vertical-align: middle;\n",
       "    }\n",
       "\n",
       "    .dataframe tbody tr th {\n",
       "        vertical-align: top;\n",
       "    }\n",
       "\n",
       "    .dataframe thead th {\n",
       "        text-align: right;\n",
       "    }\n",
       "</style>\n",
       "<table border=\"1\" class=\"dataframe\">\n",
       "  <thead>\n",
       "    <tr style=\"text-align: right;\">\n",
       "      <th></th>\n",
       "      <th>word</th>\n",
       "      <th>counts</th>\n",
       "    </tr>\n",
       "  </thead>\n",
       "  <tbody>\n",
       "    <tr>\n",
       "      <th>59</th>\n",
       "      <td>و</td>\n",
       "      <td>2232</td>\n",
       "    </tr>\n",
       "    <tr>\n",
       "      <th>834</th>\n",
       "      <td>ک</td>\n",
       "      <td>1045</td>\n",
       "    </tr>\n",
       "    <tr>\n",
       "      <th>794</th>\n",
       "      <td>س</td>\n",
       "      <td>726</td>\n",
       "    </tr>\n",
       "    <tr>\n",
       "      <th>485</th>\n",
       "      <td>ای</td>\n",
       "      <td>641</td>\n",
       "    </tr>\n",
       "    <tr>\n",
       "      <th>908</th>\n",
       "      <td>می</td>\n",
       "      <td>630</td>\n",
       "    </tr>\n",
       "    <tr>\n",
       "      <th>22</th>\n",
       "      <td>ام</td>\n",
       "      <td>554</td>\n",
       "    </tr>\n",
       "    <tr>\n",
       "      <th>259</th>\n",
       "      <td>ان</td>\n",
       "      <td>396</td>\n",
       "    </tr>\n",
       "    <tr>\n",
       "      <th>234</th>\n",
       "      <td>ع</td>\n",
       "      <td>373</td>\n",
       "    </tr>\n",
       "    <tr>\n",
       "      <th>854</th>\n",
       "      <td>از</td>\n",
       "      <td>344</td>\n",
       "    </tr>\n",
       "    <tr>\n",
       "      <th>605</th>\n",
       "      <td>کن</td>\n",
       "      <td>312</td>\n",
       "    </tr>\n",
       "  </tbody>\n",
       "</table>\n",
       "</div>"
      ],
      "text/plain": [
       "    word  counts\n",
       "59     و    2232\n",
       "834    ک    1045\n",
       "794    س     726\n",
       "485   ای     641\n",
       "908   می     630\n",
       "22    ام     554\n",
       "259   ان     396\n",
       "234    ع     373\n",
       "854   از     344\n",
       "605   کن     312"
      ]
     },
     "execution_count": 5,
     "metadata": {},
     "output_type": "execute_result"
    }
   ],
   "source": [
    "d={'word':[],'counts':[]}\n",
    "\n",
    "for i in (list(set(alltext.split()))):\n",
    "    d['word']+=[i]\n",
    "    d['counts']+= [alltext.count(i)]\n",
    "counts = pd.DataFrame(d)\n",
    "counts.sort_values(by=['counts'],ascending=False).head(10)"
   ]
  },
  {
   "cell_type": "code",
   "execution_count": 6,
   "metadata": {},
   "outputs": [],
   "source": [
    "b = open('rawtext.txt','r',encoding='utf-8')\n",
    "rawtext = b.read()\n",
    "\n",
    "\n",
    "rem = '0123456789abcdefghijklmnopqrstuvwxyzABCDEFGHIJKLMNOPQRSTUVWXYZ!\"#$%&\\'()*+,-./:;<=>?@[\\\\]^_`{|}~ \\t\\n\\r\\x0b\\x0c'\n",
    "for i in rem:\n",
    "    rawtext = rawtext.replace(i,' ')\n",
    "b = open('rawtext.txt','w',encoding='utf-8')\n",
    "b.write(rawtext)\n",
    "b.close()\n"
   ]
  },
  {
   "cell_type": "code",
   "execution_count": 7,
   "metadata": {},
   "outputs": [
    {
     "name": "stdout",
     "output_type": "stream",
     "text": [
      "3898814\n",
      "699619\n",
      "46604\n",
      "۱۳۹۶\n"
     ]
    }
   ],
   "source": [
    "print(len(rawtext))\n",
    "print(len(rawtext.split()))\n",
    "print(len(set(rawtext.split())))\n",
    "print((rawtext.split()[10]))"
   ]
  },
  {
   "cell_type": "code",
   "execution_count": 8,
   "metadata": {},
   "outputs": [
    {
     "name": "stdout",
     "output_type": "stream",
     "text": [
      "607\n"
     ]
    },
    {
     "data": {
      "text/plain": [
       "1"
      ]
     },
     "execution_count": 8,
     "metadata": {},
     "output_type": "execute_result"
    }
   ],
   "source": [
    "print(len(set(rawtext.split())|set(alltext.split()))-len(set(rawtext.split())))\n",
    "(set(rawtext.split())|set(alltext.split()))-(set(rawtext.split()))\n",
    "1"
   ]
  },
  {
   "attachments": {},
   "cell_type": "markdown",
   "metadata": {},
   "source": [
    "load raw tweet text data"
   ]
  },
  {
   "cell_type": "code",
   "execution_count": 82,
   "metadata": {},
   "outputs": [
    {
     "name": "stderr",
     "output_type": "stream",
     "text": [
      "C:\\Users\\HP\\AppData\\Local\\Temp\\ipykernel_576\\885573527.py:1: DtypeWarning: Columns (9) have mixed types. Specify dtype option on import or set low_memory=False.\n",
      "  raw_tweet = pd.read_csv(\"tweets.csv\")\n"
     ]
    },
    {
     "data": {
      "text/plain": [
       "'time'"
      ]
     },
     "execution_count": 82,
     "metadata": {},
     "output_type": "execute_result"
    }
   ],
   "source": [
    "raw_tweet = pd.read_csv(\"tweets.csv\")\n",
    "raw_tweet.columns[4]\n",
    "\n"
   ]
  },
  {
   "cell_type": "code",
   "execution_count": 32,
   "metadata": {},
   "outputs": [
    {
     "data": {
      "text/plain": [
       "'کودک و نوجوان و جوان در کشور اسلامی می\\u200cآموزد که استعداد و توان بالقوه\\u200cی خود را برای ارزشهای متعالی ملی یعنی ارزشهای اسلامی و انقلابی شکوفا کند و به\\u200cکار گیرد.\\nاین آموزش حیاتی و سازوکار تحقق آن، همان کار بزرگ و جهاد مبارکی است که معلمان عهده\\u200cدار آن شده\\u200cاند./۴\\n\\n#روز_معلم'"
      ]
     },
     "execution_count": 32,
     "metadata": {},
     "output_type": "execute_result"
    }
   ],
   "source": [
    "raw_tweet.tweet[84209]\n",
    "raw_tweet.tweet[2]\n"
   ]
  },
  {
   "cell_type": "code",
   "execution_count": 59,
   "metadata": {},
   "outputs": [],
   "source": [
    "raw_tweet_text = ''\n",
    "for i in range (0,len(raw_tweet.tweet)-1,10):\n",
    "    raw_tweet_text += raw_tweet.tweet[i]\n"
   ]
  },
  {
   "cell_type": "code",
   "execution_count": 275,
   "metadata": {},
   "outputs": [],
   "source": [
    "rem = '✌️🔗😥😉0123456789abcdefghijklmnopqrstuvwxyzABCDEFGHIJKLMNOPQRSTUVWXYZ!\"#$%&\\u2066،؟۹۶۲۱۰۳۷۵؛\\u2069\\xa0\\u200c\\'()*+,-./:;<=>?@[\\\\]^_`{|}~ \\t\\n\\r\\x0b\\x0c'\n",
    "\n",
    "rem = '\\u2066،؟۹۶۲۱۰۳۷۵؛\\u2069\\xa0\\u200c\\'()*+,-./:;<=>?@_`'"
   ]
  },
  {
   "attachments": {},
   "cell_type": "markdown",
   "metadata": {},
   "source": [
    "list of train word for vectorizing input words"
   ]
  },
  {
   "cell_type": "code",
   "execution_count": 113,
   "metadata": {},
   "outputs": [
    {
     "data": {
      "text/plain": [
       "['یکیش', 'یکیشو', 'یگانه', '۱۴۰۲', '۳۷۱۷۱', '۸۹']"
      ]
     },
     "execution_count": 113,
     "metadata": {},
     "output_type": "execute_result"
    }
   ],
   "source": [
    "train_word_list = list(set(train_text.split()))\n",
    "train_word_list.sort()\n",
    "train_word_list[1325:1331]"
   ]
  },
  {
   "cell_type": "code",
   "execution_count": 276,
   "metadata": {},
   "outputs": [],
   "source": [
    "out_data = []\n",
    "#          [[0.5,0, -1331- ,0.1], -1331- ,[0.2, -1331- ,0.1]]\n",
    "\n",
    "len_trainword = len(train_word_list)\n",
    "for data_i in range (0,len_trainword):\n",
    "    train_word = train_word_list[data_i]\n",
    "    tweets_found_with_this_word = []\n",
    "    out_data_line = []\n",
    "    for i in range (0,len(raw_tweet.tweet),5):\n",
    "        single_tweet = raw_tweet.tweet[i]\n",
    "        \n",
    "\n",
    "        if train_word in single_tweet:\n",
    "            for j in rem:\n",
    "                single_tweet = single_tweet.replace(j,' ')\n",
    "            single_tweet = single_tweet.split(' ')\n",
    "            tweets_found_with_this_word += single_tweet\n",
    "            \n",
    "    for data_i2 in range (0,len(train_word_list)):\n",
    "        train_word = train_word_list[data_i2]\n",
    "        out_data_line += [tweets_found_with_this_word.count(train_word)]\n",
    "    out_data += [out_data_line]\n",
    "    sumAll = sum(out_data[data_i])+1\n",
    "    for data_i2 in range (0,len(train_word_list)):\n",
    "        out_data[data_i][data_i2] = int((out_data[data_i][data_i2]/sumAll)*10000)/100\n",
    "    out_data[data_i][data_i]=10\n"
   ]
  },
  {
   "cell_type": "code",
   "execution_count": 277,
   "metadata": {},
   "outputs": [],
   "source": [
    "b = open('out_data_vector2.txt','w')\n",
    "b.write(str(out_data))\n",
    "b.close()"
   ]
  },
  {
   "cell_type": "code",
   "execution_count": 289,
   "metadata": {},
   "outputs": [
    {
     "name": "stdout",
     "output_type": "stream",
     "text": [
      "۸۹۸۹\n",
      "امید\n",
      "نشد 0.01\n",
      "نشدم 0.01\n",
      "نشدن 0.01\n",
      "نشده 0.07\n",
      "نشه 0.0\n",
      "نظرتون 0.0\n",
      "نفر 0.12\n",
      "نفری 0.02\n",
      "نفریم 0.01\n",
      "نماز 0.0\n",
      "نمازو 0.0\n",
      "نمشه 0.0\n",
      "نمود 0.01\n",
      "نمونه 0.03\n",
      "نمی 0.29\n",
      "نمیاد 0.0\n",
      "نمیتونم 0.0\n",
      "نمیخوام 0.0\n",
      "نمیخوامش 0.0\n",
      "نمیخونه 0.0\n",
      "نمیده 0.0\n",
      "نمیدونستم 0.0\n",
      "نمیدونم 0.01\n",
      "نمیدونه 0.0\n",
      "نمیزارن 0.0\n",
      "نمیشه 0.0\n",
      "نمیکنه 0.0\n",
      "نمیکنید 0.0\n",
      "نمیگیره 0.0\n",
      "نه 0.18\n",
      "نو 0.08\n",
      "نوا 0.0\n",
      "نواهنگ 0.0\n",
      "نوای 0.01\n",
      "نوتون 0.0\n",
      "نوحه 0.0\n",
      "نوروزتون 0.0\n",
      "نوروزم 0.0\n",
      "نوروزو 0.0\n",
      "نوستالژیکه 0.0\n",
      "نوم 0.0\n",
      "نوی 0.0\n",
      "نپرس 0.0\n",
      "نکرد 0.0\n",
      "نکردش 0.0\n",
      "نکرده 0.02\n",
      "نکن 0.01\n",
      "نگاه 0.07\n",
      "نیاد 0.0\n",
      "نیس 0.0\n",
      "نیست 0.24\n",
      "نیستش 0.0\n",
      "نیستم 0.02\n",
      "نیومد 0.0\n",
      "نیومده 0.0\n",
      "ها 1.31\n",
      "هاتون 0.0\n",
      "هاتونو 0.0\n",
      "های 2.15\n",
      "هایی 0.16\n",
      "هر 0.34\n",
      "هرروشی 0.0\n",
      "هرچی 0.0\n",
      "هرکار 0.0\n",
      "هرکاری 0.0\n",
      "هرکی 0.0\n",
      "هزینش 0.0\n",
      "هزینه 0.03\n",
      "هزینهاش 0.0\n",
      "هست 0.14\n",
      "هستش 0.0\n",
      "هستند 0.23\n",
      "هستو 0.0\n",
      "هستید 0.01\n",
      "هستیم 0.11\n",
      "هستین 0.0\n",
      "هفته 0.14\n",
      "هم 1.14\n",
      "همایون 0.0\n",
      "همراه 0.11\n",
      "همراهم 0.0\n",
      "همراهو 0.0\n",
      "همزمان 0.02\n",
      "همسایه 0.0\n",
      "همسرم 0.0\n",
      "همسرمو 0.0\n",
      "همش 0.0\n",
      "همشو 0.0\n",
      "هممون 0.0\n",
      "همه 0.85\n",
      "همون 0.01\n",
      "همونجوری 0.0\n",
      "همونه 0.0\n",
      "همونو 0.0\n",
      "همکارامون 0.0\n",
      "همکارتون 0.0\n",
      "همکارم 0.0\n",
      "همکارمو 0.0\n",
      "همیشست 0.0\n",
      "همیشه 0.03\n",
      "همیشگی 0.01\n",
      "همین 0.14\n",
      "همینجا 0.0\n",
      "هنسفری 0.0\n",
      "هنوز 0.11\n",
      "هنوزم 0.0\n",
      "هنووز 0.0\n",
      "هوا 0.04\n",
      "هوام 0.0\n",
      "هوای 0.0\n",
      "هیچ 0.13\n",
      "هیچی 0.0\n",
      "و 11.88\n",
      "وارد 0.09\n",
      "واسم 0.0\n",
      "واسه 0.0\n",
      "واضحه 0.0\n",
      "وای 0.0\n",
      "وجود 0.11\n",
      "ورداشتن 0.0\n",
      "وسطش 0.0\n",
      "وصل 0.0\n",
      "وصلش 0.0\n",
      "وقت 0.02\n",
      "وقتتون 0.0\n",
      "وقته 0.01\n",
      "وقتی 0.04\n",
      "ولته 0.0\n",
      "ولی 0.09\n",
      "وگرنه 0.0\n",
      "پاپ 0.01\n",
      "پاک 0.01\n",
      "پاکش 0.0\n",
      "پخش 0.02\n",
      "پدر 0.01\n",
      "پدرم 0.01\n",
      "پرتال 0.01\n",
      "پرداخت 0.07\n",
      "پرسید 0.0\n",
      "پرسیدم 0.01\n",
      "پس 0.22\n",
      "پسر 0.01\n",
      "پسرم 0.0\n",
      "پشت 0.07\n",
      "پشیمون 0.0\n",
      "پشیمونم 0.0\n",
      "پشیمونمچیکار 0.0\n",
      "پلی 0.01\n",
      "پناهم 0.0\n",
      "پنج 0.02\n",
      "پوشتیخطی 0.0\n",
      "پول 0.03\n",
      "پولشم 0.0\n",
      "پی 0.06\n",
      "پیاده 0.03\n",
      "پیام 0.14\n",
      "پیامک 0.0\n",
      "پیامکش 0.0\n",
      "پیامکشم 0.0\n",
      "پیامی 0.0\n",
      "پیدا 0.08\n",
      "پیداش 0.0\n",
      "پیداشون 0.0\n",
      "پیروز 0.01\n",
      "پیست 0.0\n",
      "پیسوازم 0.0\n",
      "پیش 0.35\n",
      "پیشاپیش 0.0\n",
      "پیشبازمو 0.0\n",
      "پیشصدا 0.0\n",
      "پیشنهاد 0.08\n",
      "پیشنهادی 0.03\n",
      "پیشواز 0.0\n",
      "پیشوازاتون 0.0\n",
      "پیشوازای 0.0\n",
      "پیشوازایی 0.0\n",
      "پیشوازش 0.0\n",
      "پیشوازم 0.0\n",
      "پیشوازمو 0.0\n",
      "پیشوازه 0.0\n",
      "پیشوازو 0.0\n",
      "پیشوازی 0.0\n",
      "پیشوازیو 0.0\n",
      "پیغام 0.0\n",
      "پیگیری 0.12\n",
      "چاه 0.0\n",
      "چاووشی 0.0\n",
      "چجوری 0.0\n",
      "چجوریه 0.0\n",
      "چرا 0.02\n",
      "چطور 0.0\n",
      "چطوره 0.0\n",
      "چطوری 0.0\n",
      "چطورید 0.0\n",
      "چطورین 0.0\n",
      "چطوریه 0.0\n",
      "چقدر 0.11\n",
      "چلو 0.0\n",
      "چنج 0.0\n",
      "چند 0.2\n",
      "چندبار 0.0\n",
      "چندباری 0.0\n",
      "چندتا 0.0\n",
      "چندتاشو 0.0\n",
      "چندماهی 0.0\n",
      "چنده 0.0\n",
      "چندین 0.02\n",
      "چه 0.29\n",
      "چهار 0.06\n",
      "چون 0.11\n",
      "چپ 0.01\n",
      "چک 0.0\n",
      "چکار 0.0\n",
      "چگونه 0.01\n",
      "چی 0.0\n",
      "چیز 0.06\n",
      "چیزی 0.02\n",
      "چیم 0.0\n",
      "چیه 0.0\n",
      "چیکار 0.0\n",
      "ک 0.0\n",
      "کار 0.2\n",
      "کارت 0.01\n",
      "کارتم 0.0\n",
      "کارو 0.0\n",
      "کاری 0.06\n",
      "کام 0.01\n",
      "کامل 0.06\n",
      "کجا 0.02\n",
      "کجاست 0.01\n",
      "کد 0.0\n",
      "کدام 0.02\n",
      "کدامند 0.0\n",
      "کداوا 0.0\n",
      "کدای 0.0\n",
      "کددستوری 0.0\n",
      "کدش 0.0\n",
      "کدشو 0.0\n",
      "کدمو 0.0\n",
      "کدهای 0.0\n",
      "کدو 0.0\n",
      "کدوم 0.0\n",
      "کدی 0.0\n",
      "کدیو 0.0\n",
      "کربلایی 0.0\n",
      "کرد 0.4\n",
      "کردم 0.18\n",
      "کردمو 0.0\n",
      "کردن 0.19\n",
      "کرده 0.44\n",
      "کردی 0.01\n",
      "کردید 0.01\n",
      "کردیم 0.04\n",
      "کسی 0.11\n",
      "کلا 0.01\n",
      "کلام 0.0\n",
      "کلی 0.04\n",
      "کلیه 0.01\n",
      "کم 0.09\n",
      "کمه 0.0\n",
      "کمک 0.12\n",
      "کمکم 0.0\n",
      "کن 0.04\n",
      "کنسل 0.0\n",
      "کنسلش 0.0\n",
      "کنم 0.33\n",
      "کنن 0.01\n",
      "کنه 0.03\n",
      "کنی 0.01\n",
      "کنید 0.09\n",
      "کنیم 0.38\n",
      "کنین 0.0\n",
      "که 3.43\n",
      "کوتم 0.0\n",
      "کود 0.0\n",
      "کوچیک 0.0\n",
      "کپی 0.0\n",
      "کپیش 0.0\n",
      "کپیه 0.0\n",
      "کی 0.0\n",
      "کیف 0.01\n",
      "کیفیتش 0.0\n",
      "گذاشت 0.0\n",
      "گذاشتم 0.0\n",
      "گذاشتن 0.0\n",
      "گذاشتنش 0.0\n",
      "گذاشته 0.02\n",
      "گذاشتی 0.0\n",
      "گذشته 0.14\n",
      "گرده 0.0\n",
      "گرفت 0.11\n",
      "گرفتم 0.02\n",
      "گرفته 0.17\n",
      "گشتم 0.0\n",
      "گفت 0.24\n",
      "گفتم 0.03\n",
      "گفتن 0.0\n",
      "گفتید 0.0\n",
      "گوش 0.01\n",
      "گوشش 0.0\n",
      "گوشم 0.0\n",
      "گوشی 0.0\n",
      "گوشیا 0.0\n",
      "گوشیم 0.0\n",
      "گوشیمو 0.0\n",
      "گویا 0.02\n",
      "گیر 0.01\n",
      "گیری 0.19\n",
      "یا 0.24\n",
      "یادت 0.0\n",
      "یادش 0.0\n",
      "یادم 0.0\n",
      "یجوری 0.0\n",
      "یعنی 0.09\n",
      "یه 0.02\n",
      "یواشکی 0.01\n",
      "یچی 0.0\n",
      "یچیز 0.0\n",
      "یک 0.78\n",
      "یکاری 0.0\n",
      "یکاریش 0.0\n",
      "یکبار 0.0\n",
      "یکم 0.0\n",
      "یکنفر 0.0\n",
      "یکی 0.2\n",
      "یکیش 0.0\n",
      "یکیشو 0.0\n",
      "یگانه 0.0\n",
      "۱۴۰۲ 0.0\n",
      "۳۷۱۷۱ 0.0\n"
     ]
    }
   ],
   "source": [
    "print( train_word )\n",
    "#print(str(single_tweet))\n",
    "print(train_word_list[94])   \n",
    "#print(out_data[11][42])         \n",
    "#print(out_data[11])\n",
    "for i in range (1000,1330):\n",
    "    print(train_word_list[i],out_data[94][i]) "
   ]
  }
 ],
 "metadata": {
  "kernelspec": {
   "display_name": "Python 3",
   "language": "python",
   "name": "python3"
  },
  "language_info": {
   "codemirror_mode": {
    "name": "ipython",
    "version": 3
   },
   "file_extension": ".py",
   "mimetype": "text/x-python",
   "name": "python",
   "nbconvert_exporter": "python",
   "pygments_lexer": "ipython3",
   "version": "3.10.8"
  },
  "orig_nbformat": 4,
  "vscode": {
   "interpreter": {
    "hash": "a9cff5a362bc38ef45d817ae74b1af54d6a076e3d773891282bce078b815ba34"
   }
  }
 },
 "nbformat": 4,
 "nbformat_minor": 2
}
